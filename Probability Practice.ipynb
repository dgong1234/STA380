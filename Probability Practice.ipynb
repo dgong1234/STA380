{
 "cells": [
  {
   "cell_type": "markdown",
   "metadata": {},
   "source": [
    "# Probability Practice"
   ]
  },
  {
   "cell_type": "markdown",
   "metadata": {},
   "source": [
    "## Part a."
   ]
  },
  {
   "cell_type": "markdown",
   "metadata": {},
   "source": [
    "P(Yes) = P(Yes,Truthful) + P(Yes, Not Truthful)\n",
    "    = P(Truthful) * P(Yes|Truthful) + P(Not Truthful) * P(Yes|Not Truthful)\n",
    "    \n",
    "    .65 = .7 *x + .3*.5\n",
    "    \n",
    "    -.7x = -.5\n",
    "    \n",
    "    X = .714\n",
    "71.4 Percent of who are truthful clickers said yes.\n"
   ]
  },
  {
   "cell_type": "markdown",
   "metadata": {},
   "source": [
    "## Part B."
   ]
  },
  {
   "cell_type": "markdown",
   "metadata": {},
   "source": [
    "P(Disease|Positive) = (P(Disease) * P(Positive|Disease))/P(Positive))\n",
    "\n",
    "P(D|P) = (.000025 *  .993)/(.000025 * .993 + .999975* .0001)\n",
    "\n",
    "p(D|P) = .1988824\n",
    "\n",
    "The probability that someone has the disease after testing postive is .1988824."
   ]
  }
 ],
 "metadata": {
  "kernelspec": {
   "display_name": "Python 3.11.0 64-bit",
   "language": "python",
   "name": "python3"
  },
  "language_info": {
   "codemirror_mode": {
    "name": "ipython",
    "version": 3
   },
   "file_extension": ".py",
   "mimetype": "text/x-python",
   "name": "python",
   "nbconvert_exporter": "python",
   "pygments_lexer": "ipython3",
   "version": "3.11.0"
  },
  "orig_nbformat": 4,
  "vscode": {
   "interpreter": {
    "hash": "5238573367df39f7286bb46f9ff5f08f63a01a80960060ce41e3c79b190280fa"
   }
  }
 },
 "nbformat": 4,
 "nbformat_minor": 2
}
